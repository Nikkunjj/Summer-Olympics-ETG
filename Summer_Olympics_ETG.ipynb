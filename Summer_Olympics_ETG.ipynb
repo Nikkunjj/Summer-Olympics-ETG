{
  "nbformat": 4,
  "nbformat_minor": 0,
  "metadata": {
    "colab": {
      "name": "Summer Olympics ETG.ipynb",
      "provenance": [],
      "collapsed_sections": [],
      "authorship_tag": "ABX9TyOCb+2eXHlBN63BgPOsaBDm",
      "include_colab_link": true
    },
    "kernelspec": {
      "name": "python3",
      "display_name": "Python 3"
    },
    "language_info": {
      "name": "python"
    }
  },
  "cells": [
    {
      "cell_type": "markdown",
      "metadata": {
        "id": "view-in-github",
        "colab_type": "text"
      },
      "source": [
        "<a href=\"https://colab.research.google.com/github/Nikkunjj/Summer-Olympics-ETG/blob/main/Summer_Olympics_ETG.ipynb\" target=\"_parent\"><img src=\"https://colab.research.google.com/assets/colab-badge.svg\" alt=\"Open In Colab\"/></a>"
      ]
    },
    {
      "cell_type": "code",
      "metadata": {
        "colab": {
          "base_uri": "https://localhost:8080/",
          "height": 417
        },
        "id": "q9wVMwGHIgh9",
        "outputId": "dfe8b50b-05ae-487e-e1dd-d4732a669e46"
      },
      "source": [
        "import pandas as pd\n",
        "import numpy\n",
        "df=pd.read_csv(\"summer.csv\")\n",
        "df"
      ],
      "execution_count": 3,
      "outputs": [
        {
          "output_type": "execute_result",
          "data": {
            "text/html": [
              "<div>\n",
              "<style scoped>\n",
              "    .dataframe tbody tr th:only-of-type {\n",
              "        vertical-align: middle;\n",
              "    }\n",
              "\n",
              "    .dataframe tbody tr th {\n",
              "        vertical-align: top;\n",
              "    }\n",
              "\n",
              "    .dataframe thead th {\n",
              "        text-align: right;\n",
              "    }\n",
              "</style>\n",
              "<table border=\"1\" class=\"dataframe\">\n",
              "  <thead>\n",
              "    <tr style=\"text-align: right;\">\n",
              "      <th></th>\n",
              "      <th>Year</th>\n",
              "      <th>City</th>\n",
              "      <th>Sport</th>\n",
              "      <th>Discipline</th>\n",
              "      <th>Athlete</th>\n",
              "      <th>Country</th>\n",
              "      <th>Gender</th>\n",
              "      <th>Event</th>\n",
              "      <th>Medal</th>\n",
              "    </tr>\n",
              "  </thead>\n",
              "  <tbody>\n",
              "    <tr>\n",
              "      <th>0</th>\n",
              "      <td>1896</td>\n",
              "      <td>Athens</td>\n",
              "      <td>Aquatics</td>\n",
              "      <td>Swimming</td>\n",
              "      <td>HAJOS, Alfred</td>\n",
              "      <td>HUN</td>\n",
              "      <td>Men</td>\n",
              "      <td>100M Freestyle</td>\n",
              "      <td>Gold</td>\n",
              "    </tr>\n",
              "    <tr>\n",
              "      <th>1</th>\n",
              "      <td>1896</td>\n",
              "      <td>Athens</td>\n",
              "      <td>Aquatics</td>\n",
              "      <td>Swimming</td>\n",
              "      <td>HERSCHMANN, Otto</td>\n",
              "      <td>AUT</td>\n",
              "      <td>Men</td>\n",
              "      <td>100M Freestyle</td>\n",
              "      <td>Silver</td>\n",
              "    </tr>\n",
              "    <tr>\n",
              "      <th>2</th>\n",
              "      <td>1896</td>\n",
              "      <td>Athens</td>\n",
              "      <td>Aquatics</td>\n",
              "      <td>Swimming</td>\n",
              "      <td>DRIVAS, Dimitrios</td>\n",
              "      <td>GRE</td>\n",
              "      <td>Men</td>\n",
              "      <td>100M Freestyle For Sailors</td>\n",
              "      <td>Bronze</td>\n",
              "    </tr>\n",
              "    <tr>\n",
              "      <th>3</th>\n",
              "      <td>1896</td>\n",
              "      <td>Athens</td>\n",
              "      <td>Aquatics</td>\n",
              "      <td>Swimming</td>\n",
              "      <td>MALOKINIS, Ioannis</td>\n",
              "      <td>GRE</td>\n",
              "      <td>Men</td>\n",
              "      <td>100M Freestyle For Sailors</td>\n",
              "      <td>Gold</td>\n",
              "    </tr>\n",
              "    <tr>\n",
              "      <th>4</th>\n",
              "      <td>1896</td>\n",
              "      <td>Athens</td>\n",
              "      <td>Aquatics</td>\n",
              "      <td>Swimming</td>\n",
              "      <td>CHASAPIS, Spiridon</td>\n",
              "      <td>GRE</td>\n",
              "      <td>Men</td>\n",
              "      <td>100M Freestyle For Sailors</td>\n",
              "      <td>Silver</td>\n",
              "    </tr>\n",
              "    <tr>\n",
              "      <th>...</th>\n",
              "      <td>...</td>\n",
              "      <td>...</td>\n",
              "      <td>...</td>\n",
              "      <td>...</td>\n",
              "      <td>...</td>\n",
              "      <td>...</td>\n",
              "      <td>...</td>\n",
              "      <td>...</td>\n",
              "      <td>...</td>\n",
              "    </tr>\n",
              "    <tr>\n",
              "      <th>31160</th>\n",
              "      <td>2012</td>\n",
              "      <td>London</td>\n",
              "      <td>Wrestling</td>\n",
              "      <td>Wrestling Freestyle</td>\n",
              "      <td>JANIKOWSKI, Damian</td>\n",
              "      <td>POL</td>\n",
              "      <td>Men</td>\n",
              "      <td>Wg 84 KG</td>\n",
              "      <td>Bronze</td>\n",
              "    </tr>\n",
              "    <tr>\n",
              "      <th>31161</th>\n",
              "      <td>2012</td>\n",
              "      <td>London</td>\n",
              "      <td>Wrestling</td>\n",
              "      <td>Wrestling Freestyle</td>\n",
              "      <td>REZAEI, Ghasem Gholamreza</td>\n",
              "      <td>IRI</td>\n",
              "      <td>Men</td>\n",
              "      <td>Wg 96 KG</td>\n",
              "      <td>Gold</td>\n",
              "    </tr>\n",
              "    <tr>\n",
              "      <th>31162</th>\n",
              "      <td>2012</td>\n",
              "      <td>London</td>\n",
              "      <td>Wrestling</td>\n",
              "      <td>Wrestling Freestyle</td>\n",
              "      <td>TOTROV, Rustam</td>\n",
              "      <td>RUS</td>\n",
              "      <td>Men</td>\n",
              "      <td>Wg 96 KG</td>\n",
              "      <td>Silver</td>\n",
              "    </tr>\n",
              "    <tr>\n",
              "      <th>31163</th>\n",
              "      <td>2012</td>\n",
              "      <td>London</td>\n",
              "      <td>Wrestling</td>\n",
              "      <td>Wrestling Freestyle</td>\n",
              "      <td>ALEKSANYAN, Artur</td>\n",
              "      <td>ARM</td>\n",
              "      <td>Men</td>\n",
              "      <td>Wg 96 KG</td>\n",
              "      <td>Bronze</td>\n",
              "    </tr>\n",
              "    <tr>\n",
              "      <th>31164</th>\n",
              "      <td>2012</td>\n",
              "      <td>London</td>\n",
              "      <td>Wrestling</td>\n",
              "      <td>Wrestling Freestyle</td>\n",
              "      <td>LIDBERG, Jimmy</td>\n",
              "      <td>SWE</td>\n",
              "      <td>Men</td>\n",
              "      <td>Wg 96 KG</td>\n",
              "      <td>Bronze</td>\n",
              "    </tr>\n",
              "  </tbody>\n",
              "</table>\n",
              "<p>31165 rows × 9 columns</p>\n",
              "</div>"
            ],
            "text/plain": [
              "       Year    City      Sport  ... Gender                       Event   Medal\n",
              "0      1896  Athens   Aquatics  ...    Men              100M Freestyle    Gold\n",
              "1      1896  Athens   Aquatics  ...    Men              100M Freestyle  Silver\n",
              "2      1896  Athens   Aquatics  ...    Men  100M Freestyle For Sailors  Bronze\n",
              "3      1896  Athens   Aquatics  ...    Men  100M Freestyle For Sailors    Gold\n",
              "4      1896  Athens   Aquatics  ...    Men  100M Freestyle For Sailors  Silver\n",
              "...     ...     ...        ...  ...    ...                         ...     ...\n",
              "31160  2012  London  Wrestling  ...    Men                    Wg 84 KG  Bronze\n",
              "31161  2012  London  Wrestling  ...    Men                    Wg 96 KG    Gold\n",
              "31162  2012  London  Wrestling  ...    Men                    Wg 96 KG  Silver\n",
              "31163  2012  London  Wrestling  ...    Men                    Wg 96 KG  Bronze\n",
              "31164  2012  London  Wrestling  ...    Men                    Wg 96 KG  Bronze\n",
              "\n",
              "[31165 rows x 9 columns]"
            ]
          },
          "metadata": {},
          "execution_count": 3
        }
      ]
    },
    {
      "cell_type": "markdown",
      "metadata": {
        "id": "-k96IwNNJFR8"
      },
      "source": [
        "(1) In how many cities Summer Olympics is held so far?"
      ]
    },
    {
      "cell_type": "code",
      "metadata": {
        "colab": {
          "base_uri": "https://localhost:8080/"
        },
        "id": "K23E1Px3I67z",
        "outputId": "34904588-082a-4777-fadf-2afe4e6eb400"
      },
      "source": [
        "print(\"Summer Olympics is held in\",len(df[\"City\"].unique()),\"different cities.\")"
      ],
      "execution_count": 4,
      "outputs": [
        {
          "output_type": "stream",
          "name": "stdout",
          "text": [
            "Summer Olympics is held in 22 different cities.\n"
          ]
        }
      ]
    },
    {
      "cell_type": "markdown",
      "metadata": {
        "id": "Wk52zXthJHOz"
      },
      "source": [
        "(2) Which sport is having most number of Gold Medals so far? (Top 5)"
      ]
    },
    {
      "cell_type": "code",
      "metadata": {
        "colab": {
          "base_uri": "https://localhost:8080/",
          "height": 400
        },
        "id": "SGvmOe4fI9Wz",
        "outputId": "274e1a85-9147-4543-d2d5-80b28b04d0cb"
      },
      "source": [
        "lst=[]\n",
        "data=df.values\n",
        "for sport in df[\"Sport\"].unique():\n",
        "  gold_medals=0\n",
        "  for i in range(len(data)):\n",
        "    if(data[i][2]==sport):\n",
        "      if(data[i][8]==\"Gold\"):\n",
        "        gold_medals+=1\n",
        "  lst.append([sport,gold_medals])\n",
        "pd.DataFrame(lst,columns=[\"Sport\",\"Gold Medals\"]).sort_values(by=\"Gold Medals\",ascending=False).head().plot.bar(x=\"Sport\",y=\"Gold Medals\",figsize=(5,5))"
      ],
      "execution_count": 5,
      "outputs": [
        {
          "output_type": "execute_result",
          "data": {
            "text/plain": [
              "<matplotlib.axes._subplots.AxesSubplot at 0x7fe064ee58d0>"
            ]
          },
          "metadata": {},
          "execution_count": 5
        },
        {
          "output_type": "display_data",
          "data": {
            "image/png": "[encoded data removed]",
            "text/plain": [
              "<Figure size 360x360 with 1 Axes>"
            ]
          },
          "metadata": {
            "needs_background": "light"
          }
        }
      ]
    },
    {
      "cell_type": "markdown",
      "metadata": {
        "id": "t0bZgoN6JP48"
      },
      "source": [
        "(3) Which sport is having most number of medals so far? (Top 5)"
      ]
    },
    {
      "cell_type": "code",
      "metadata": {
        "colab": {
          "base_uri": "https://localhost:8080/",
          "height": 400
        },
        "id": "YgLEjQCYJSwL",
        "outputId": "7cf0f475-3222-45ac-820c-7cfc44a9c796"
      },
      "source": [
        "lst_medals=[]\n",
        "data_medal=df.values\n",
        "for sports in df[\"Sport\"].unique():\n",
        "  medals=0\n",
        "  for i in range(len(data_medal)):\n",
        "    if(data_medal[i][2]==sports):\n",
        "      if(data_medal[i][8]!=\"nan\"):\n",
        "        medals+=1\n",
        "  lst_medals.append([sports,medals])\n",
        "pd.DataFrame(lst_medals,columns=[\"Sports\",\"Medals\"]).sort_values(by=\"Medals\",ascending=False).head().plot.bar(x=\"Sports\",y=\"Medals\",figsize=(5,5))"
      ],
      "execution_count": 6,
      "outputs": [
        {
          "output_type": "execute_result",
          "data": {
            "text/plain": [
              "<matplotlib.axes._subplots.AxesSubplot at 0x7fe064e44890>"
            ]
          },
          "metadata": {},
          "execution_count": 6
        },
        {
          "output_type": "display_data",
          "data": {
            "image/png": "[encoded data removed]",
            "text/plain": [
              "<Figure size 360x360 with 1 Axes>"
            ]
          },
          "metadata": {
            "needs_background": "light"
          }
        }
      ]
    },
    {
      "cell_type": "markdown",
      "metadata": {
        "id": "DvkvrCyoJVM7"
      },
      "source": [
        "(4) Which player has won most number of medals? (Top 5)"
      ]
    },
    {
      "cell_type": "code",
      "metadata": {
        "colab": {
          "base_uri": "https://localhost:8080/",
          "height": 458
        },
        "id": "AuzYK2H4JW50",
        "outputId": "d5fef492-f5e3-432b-9c46-f535117f49e9"
      },
      "source": [
        "lst_player=[]\n",
        "data_player=df.values\n",
        "for player in df[\"Athlete\"].unique():\n",
        "  medals=0\n",
        "  for i in range(len(data_player)):\n",
        "    if(data_player[i][4]==player):\n",
        "      if(data_player[i][8]!=\"nan\"):\n",
        "        medals+=1\n",
        "  lst_player.append([player,medals])\n",
        "pd.DataFrame(lst_player,columns=[\"Player\",\"Medals\"]).sort_values(by=\"Medals\",ascending=False).head().plot.bar(x=\"Player\",y=\"Medals\",figsize=(5,5))"
      ],
      "execution_count": 7,
      "outputs": [
        {
          "output_type": "execute_result",
          "data": {
            "text/plain": [
              "<matplotlib.axes._subplots.AxesSubplot at 0x7fe0648226d0>"
            ]
          },
          "metadata": {},
          "execution_count": 7
        },
        {
          "output_type": "display_data",
          "data": {
            "image/png": "[encoded data removed]",
            "text/plain": [
              "<Figure size 360x360 with 1 Axes>"
            ]
          },
          "metadata": {
            "needs_background": "light"
          }
        }
      ]
    },
    {
      "cell_type": "markdown",
      "metadata": {
        "id": "NZ4xOJIgJZ48"
      },
      "source": [
        "(5) Which player has won most number Gold Medals of medals? (Top 5)"
      ]
    },
    {
      "cell_type": "code",
      "metadata": {
        "colab": {
          "base_uri": "https://localhost:8080/",
          "height": 426
        },
        "id": "EC8ZdmKAJarM",
        "outputId": "d9fcdc66-be4d-4271-9842-f703a61ee20c"
      },
      "source": [
        "lst_goldplayer=[]\n",
        "data_goldplayer=df.values\n",
        "for player in df[\"Athlete\"].unique():\n",
        "  goldmedals=0\n",
        "  for i in range(len(data_goldplayer)):\n",
        "    if(data_goldplayer[i][4]==player):\n",
        "      if(data_goldplayer[i][8]==\"Gold\"):\n",
        "        goldmedals+=1\n",
        "  lst_goldplayer.append([player,goldmedals])\n",
        "pd.DataFrame(lst_goldplayer,columns=[\"Player\",\"Gold Medals\"]).sort_values(by=\"Gold Medals\",ascending=False).head().plot.bar(x=\"Player\",y=\"Gold Medals\",figsize=(5,5))"
      ],
      "execution_count": 8,
      "outputs": [
        {
          "output_type": "execute_result",
          "data": {
            "text/plain": [
              "<matplotlib.axes._subplots.AxesSubplot at 0x7fe06501b790>"
            ]
          },
          "metadata": {},
          "execution_count": 8
        },
        {
          "output_type": "display_data",
          "data": {
            "image/png": "[encoded data removed]",
            "text/plain": [
              "<Figure size 360x360 with 1 Axes>"
            ]
          },
          "metadata": {
            "needs_background": "light"
          }
        }
      ]
    },
    {
      "cell_type": "markdown",
      "metadata": {
        "id": "A7kNPGdvJdqM"
      },
      "source": [
        "(6) In which year India won first Gold Medal in Summer Olympics?"
      ]
    },
    {
      "cell_type": "code",
      "metadata": {
        "colab": {
          "base_uri": "https://localhost:8080/"
        },
        "id": "zSJU5GGCJlxs",
        "outputId": "3d0bfedf-3f93-485d-a647-dcbb978a4619"
      },
      "source": [
        "df_india=df[df[\"Country\"]==\"IND\"]\n",
        "data_india=df_india.values\n",
        "gold_india_lst=[]\n",
        "for year in df_india[\"Year\"].unique():\n",
        "  gold_india=0\n",
        "  for i in range(len(data_india)):\n",
        "    if(data_india[i][0]==year):\n",
        "      if(data_india[i][8]==\"Gold\"):\n",
        "        gold_india+=1\n",
        "  gold_india_lst.append([year,gold_india])\n",
        "for item in gold_india_lst:\n",
        "  if(item[1]>0):\n",
        "    year=item[0]\n",
        "    break\n",
        "print(\"India has won its first gold medal in the year\",year)"
      ],
      "execution_count": 9,
      "outputs": [
        {
          "output_type": "stream",
          "name": "stdout",
          "text": [
            "India has won its first gold medal in the year 1928\n"
          ]
        }
      ]
    },
    {
      "cell_type": "markdown",
      "metadata": {
        "id": "njiTve8UJoYU"
      },
      "source": [
        "(7) Which event is most popular in terms on number of players? (Top 5)"
      ]
    },
    {
      "cell_type": "code",
      "metadata": {
        "colab": {
          "base_uri": "https://localhost:8080/",
          "height": 432
        },
        "id": "VQ_Lrwa1JqvU",
        "outputId": "72ac0a22-cd70-46c5-9fdb-6aa5d3f6dd10"
      },
      "source": [
        "events=df.values\n",
        "events_popular=[]\n",
        "# There was a player for each event as there was no null value for athelete table\n",
        "for event in df[\"Event\"].unique():\n",
        "  no_players=0\n",
        "  for i in range(len(events)):\n",
        "    if(events[i][7]==event):\n",
        "      no_players+=1\n",
        "  events_popular.append([event,no_players])\n",
        "pd.DataFrame(events_popular,columns=[\"Event\",\"Number of Players\"]).sort_values(by=\"Number of Players\",ascending=False).head().plot.bar(x=\"Event\",y=\"Number of Players\",figsize=(5,5))"
      ],
      "execution_count": 10,
      "outputs": [
        {
          "output_type": "execute_result",
          "data": {
            "text/plain": [
              "<matplotlib.axes._subplots.AxesSubplot at 0x7fe0644aeb90>"
            ]
          },
          "metadata": {},
          "execution_count": 10
        },
        {
          "output_type": "display_data",
          "data": {
            "image/png": "[encoded data removed]",
            "text/plain": [
              "<Figure size 360x360 with 1 Axes>"
            ]
          },
          "metadata": {
            "needs_background": "light"
          }
        }
      ]
    },
    {
      "cell_type": "markdown",
      "metadata": {
        "id": "Znbz0WVlJstM"
      },
      "source": [
        "(8) Which sport is having most female Gold Medalists? (Top 5)"
      ]
    },
    {
      "cell_type": "code",
      "metadata": {
        "colab": {
          "base_uri": "https://localhost:8080/",
          "height": 400
        },
        "id": "V6OzTXhQJv8U",
        "outputId": "44f42dec-1466-4296-c0c4-16b74792ee48"
      },
      "source": [
        "data_female=df[df[\"Gender\"]==\"Women\"]\n",
        "data_gold=data_female[data_female[\"Medal\"]==\"Gold\"]\n",
        "data=data_gold.values\n",
        "female_gold_sport=[]\n",
        "for sport in data_gold[\"Sport\"].unique():\n",
        "  sport_gold=0\n",
        "  for i in range(len(data)):\n",
        "    if(data[i][2]==sport):\n",
        "        sport_gold+=1\n",
        "  female_gold_sport.append([sport,sport_gold])\n",
        "pd.DataFrame(female_gold_sport,columns=[\"Sport\",\"Number of Female Gold Medalists\"]).sort_values(by=\"Number of Female Gold Medalists\",ascending=False).head().plot.bar(x=\"Sport\",y=\"Number of Female Gold Medalists\",figsize=(5,5))"
      ],
      "execution_count": 11,
      "outputs": [
        {
          "output_type": "execute_result",
          "data": {
            "text/plain": [
              "<matplotlib.axes._subplots.AxesSubplot at 0x7fe063f747d0>"
            ]
          },
          "metadata": {},
          "execution_count": 11
        },
        {
          "output_type": "display_data",
          "data": {
            "image/png": "[encoded data removed]",
            "text/plain": [
              "<Figure size 360x360 with 1 Axes>"
            ]
          },
          "metadata": {
            "needs_background": "light"
          }
        }
      ]
    }
  ]
}